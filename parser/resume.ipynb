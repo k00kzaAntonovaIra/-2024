{
 "cells": [
  {
   "cell_type": "code",
   "execution_count": 1,
   "metadata": {},
   "outputs": [],
   "source": [
    "import requests\n",
    "from bs4 import BeautifulSoup\n",
    "import fake_useragent\n",
    "import time\n",
    "import json"
   ]
  },
  {
   "cell_type": "code",
   "execution_count": 2,
   "metadata": {},
   "outputs": [],
   "source": [
    "def g(string):\n",
    "\n",
    "    string = string.replace(\"\\xa0\", \" \")\n",
    "    string = string.replace(\"&nbsp;\", \" \")\n",
    "    string = string.replace(\"&thinsp;\", \"\")\n",
    "    string = string.replace(\"\\u2009\", \"\")\n",
    "    return string"
   ]
  },
  {
   "cell_type": "code",
   "execution_count": 3,
   "metadata": {},
   "outputs": [],
   "source": [
    "def get_links(text):\n",
    "    ua = fake_useragent.UserAgent()\n",
    "    data = requests.get(\n",
    "        url=f\"https://hh.ru/search/resume?text={text}&area=113&isDefaultArea=true&ored_clusters=true&order_by=relevance&search_period=0&logic=normal&pos=full_text&exp_period=all_time&page=1\",\n",
    "        headers={\"user-agent\":ua.random}\n",
    "    )\n",
    "    if data.status_code != 200:\n",
    "        return\n",
    "    soup = BeautifulSoup(data.content, \"lxml\")\n",
    "    try:\n",
    "        page_count = int(soup.find(\"div\", attrs={\"class\":\"pager\"}).find_all(\"span\",recursive=False)[-1].find(\"a\").find(\"span\").text)\n",
    "    except:\n",
    "        return\n",
    "    for page in range(page_count):\n",
    "        try:\n",
    "            data = requests.get(\n",
    "                url=f\"https://hh.ru/search/resume?text={text}&area=113&isDefaultArea=true&ored_clusters=true&order_by=relevance&search_period=0&logic=normal&pos=full_text&exp_period=all_time&page={page}\",\n",
    "                headers={\"user-agent\":ua.random}\n",
    "            )\n",
    "            if data.status_code != 200:\n",
    "                continue\n",
    "            soup = BeautifulSoup(data.content, \"lxml\")\n",
    "            for a in soup.find_all(\"a\", attrs={\"class\":\"bloko-link\"}):\n",
    "                yield f\"https://hh.ru{a.attrs['href'].split('?')[0]}\"\n",
    "        except Exception as e:\n",
    "            print(f\"{e}\")\n",
    "        time.sleep(1)"
   ]
  },
  {
   "cell_type": "code",
   "execution_count": 4,
   "metadata": {},
   "outputs": [],
   "source": [
    "def get_resume(link):\n",
    "    ua = fake_useragent.UserAgent()\n",
    "    data = requests.get(\n",
    "        url = link,\n",
    "        headers={\"user-agent\":ua.random}\n",
    "    )\n",
    "    if data.status_code != 200:\n",
    "        return\n",
    "    soup = BeautifulSoup(data.content, \"lxml\")\n",
    "    try:\n",
    "        name = g(soup.find(attrs={\"class\":\"resume-block__title-text\"}).text)\n",
    "    except:\n",
    "        name = \"\"\n",
    "\n",
    "    try:\n",
    "        salary = g(soup.find(attrs={\"class\":\"resume-block__salary\"}).text)\n",
    "    except:\n",
    "        salary = \"\"\n",
    "    \n",
    "    try:\n",
    "        age = g(soup.find(attrs={\"data-qa\":\"resume-personal-age\"}).text)\n",
    "    except:\n",
    "        age = \"\"\n",
    "\n",
    "    try:\n",
    "        male = g(soup.find(attrs={\"data-qa\":\"resume-personal-gender\"}).text)\n",
    "    except:\n",
    "        male = \"\"\n",
    "\n",
    "    try:\n",
    "        job_s = g(soup.find(attrs={\"class\":\"resume-job-search-status\"}).text)\n",
    "    except:\n",
    "        job_s = \"\"\n",
    "\n",
    "    try:\n",
    "        expir = g(soup.find(attrs={\"class\":\"resume-block__title-text resume-block__title-text_sub\"}).text.replace(\"Опыт работы \", \"\"))\n",
    "    except:\n",
    "        expir = \"\"\n",
    "\n",
    "    try:\n",
    "        skills = [tag.text for tag in soup.find(attrs={\"class\":\"bloko-tag-list\"}).find_all(attrs={\"class\":\"bloko-tag__section bloko-tag__section_text\"})]\n",
    "    except:\n",
    "        skills = []  \n",
    "    resume = {\n",
    "        \"ИМЯ\": name,\n",
    "        \"ПОЛ\": male,\n",
    "        \"ВОЗРАСТ\": age,\n",
    "        \"ПОИСК\": job_s,\n",
    "        \"ЗАРПЛАТА\": salary,\n",
    "        \"НАВЫКИ\": skills,\n",
    "        \"ОПЫТ\": expir,\n",
    "        \"ССЫЛКА\": link\n",
    "\n",
    "    }\n",
    "\n",
    "    return resume"
   ]
  },
  {
   "cell_type": "code",
   "execution_count": 5,
   "metadata": {},
   "outputs": [
    {
     "name": "stdout",
     "output_type": "stream",
     "text": [
      "{'ИМЯ': '', 'ПОЛ': '', 'ВОЗРАСТ': '', 'ПОИСК': '', 'ЗАРПЛАТА': '', 'НАВЫКИ': ['Москва'], 'ОПЫТ': '', 'ССЫЛКА': 'https://hh.ru/search/resume/advanced'}\n",
      "{'ИМЯ': '', 'ПОЛ': '', 'ВОЗРАСТ': '', 'ПОИСК': '', 'ЗАРПЛАТА': '', 'НАВЫКИ': ['Москва'], 'ОПЫТ': '', 'ССЫЛКА': 'https://hh.ru/search/resume/advanced'}\n",
      "{'ИМЯ': '', 'ПОЛ': '', 'ВОЗРАСТ': '', 'ПОИСК': '', 'ЗАРПЛАТА': '', 'НАВЫКИ': [], 'ОПЫТ': '', 'ССЫЛКА': 'https://hh.ru/search/resume'}\n",
      "{'ИМЯ': '', 'ПОЛ': '', 'ВОЗРАСТ': '', 'ПОИСК': '', 'ЗАРПЛАТА': '', 'НАВЫКИ': [], 'ОПЫТ': '', 'ССЫЛКА': 'https://hh.ru/article/23786'}\n",
      "{'ИМЯ': 'Учитель физики', 'ПОЛ': 'Женщина', 'ВОЗРАСТ': '78 лет', 'ПОИСК': '', 'ЗАРПЛАТА': '', 'НАВЫКИ': ['Русский — Родной'], 'ОПЫТ': '56 лет 6 месяцев', 'ССЫЛКА': 'https://hh.ru/resume/f4d9c1670002bbd0280039ed1f653857776c57'}\n",
      "{'ИМЯ': 'Учитель математики', 'ПОЛ': 'Мужчина', 'ВОЗРАСТ': '61 год', 'ПОИСК': '', 'ЗАРПЛАТА': '30000 ₽ на руки', 'НАВЫКИ': ['учитель'], 'ОПЫТ': '12 лет 10 месяцев', 'ССЫЛКА': 'https://hh.ru/resume/3ec439c4000428bd2f0039ed1f76565530584c'}\n",
      "{'ИМЯ': 'Учитель ', 'ПОЛ': 'Женщина', 'ВОЗРАСТ': '43 года', 'ПОИСК': '', 'ЗАРПЛАТА': '40000 ₽ на руки', 'НАВЫКИ': ['Коммуникабельность, целеустремлённость,, ответственность'], 'ОПЫТ': '19 лет 10 месяцев', 'ССЫЛКА': 'https://hh.ru/resume/c190307d000228c31c0039ed1f564f56783068'}\n",
      "{'ИМЯ': 'Педагог', 'ПОЛ': 'Женщина', 'ВОЗРАСТ': '57 лет', 'ПОИСК': 'Не ищет работу', 'ЗАРПЛАТА': '80000 ₽ на руки', 'НАВЫКИ': ['Русский — Родной'], 'ОПЫТ': '17 лет 10 месяцев', 'ССЫЛКА': 'https://hh.ru/resume/ac7425810001bd29e80039ed1f373845626c6b'}\n",
      "{'ИМЯ': 'Учитель', 'ПОЛ': 'Женщина', 'ВОЗРАСТ': '45 лет', 'ПОИСК': 'Не ищет работу', 'ЗАРПЛАТА': '50000 ₽ на руки', 'НАВЫКИ': ['Русский — Родной', 'Английский — A1 — Начальный'], 'ОПЫТ': '27 лет 3 месяца', 'ССЫЛКА': 'https://hh.ru/resume/4a8d26af00037c696b0039ed1f586c4c4d6d66'}\n",
      "{'ИМЯ': 'учитель', 'ПОЛ': 'Мужчина', 'ВОЗРАСТ': '44 года', 'ПОИСК': '', 'ЗАРПЛАТА': '50000 ₽ на руки', 'НАВЫКИ': ['Русский — Родной'], 'ОПЫТ': '16 лет 10 месяцев', 'ССЫЛКА': 'https://hh.ru/resume/30e28657000145af7f0039ed1f414d31753059'}\n",
      "{'ИМЯ': 'учитель', 'ПОЛ': 'Женщина', 'ВОЗРАСТ': '48 лет', 'ПОИСК': '', 'ЗАРПЛАТА': '', 'НАВЫКИ': ['Грамотная речь', 'Пользователь ПК', 'Умение работать в коллективе', 'Водительское удостоверение категории B', 'Креативность'], 'ОПЫТ': '28 лет 10 месяцев', 'ССЫЛКА': 'https://hh.ru/resume/a97c12b60003a956120039ed1f484f43336879'}\n",
      "{'ИМЯ': 'Учитель', 'ПОЛ': 'Мужчина', 'ВОЗРАСТ': '61 год', 'ПОИСК': '', 'ЗАРПЛАТА': '', 'НАВЫКИ': ['Русский — Родной'], 'ОПЫТ': '32 года 11 месяцев', 'ССЫЛКА': 'https://hh.ru/resume/2b6a3fa90001a21bb70039ed1f4843344c6862'}\n"
     ]
    },
    {
     "ename": "KeyboardInterrupt",
     "evalue": "",
     "output_type": "error",
     "traceback": [
      "\u001b[1;31m---------------------------------------------------------------------------\u001b[0m",
      "\u001b[1;31mKeyboardInterrupt\u001b[0m                         Traceback (most recent call last)",
      "Cell \u001b[1;32mIn[5], line 4\u001b[0m\n\u001b[0;32m      2\u001b[0m \u001b[38;5;28;01mfor\u001b[39;00m a \u001b[38;5;129;01min\u001b[39;00m get_links(\u001b[38;5;124m\"\u001b[39m\u001b[38;5;124mучитель\u001b[39m\u001b[38;5;124m\"\u001b[39m):\n\u001b[0;32m      3\u001b[0m     \u001b[38;5;28mprint\u001b[39m(get_resume(a))\n\u001b[1;32m----> 4\u001b[0m     time\u001b[38;5;241m.\u001b[39msleep(\u001b[38;5;241m1\u001b[39m)\n",
      "\u001b[1;31mKeyboardInterrupt\u001b[0m: "
     ]
    }
   ],
   "source": [
    "if __name__ == \"__main__\":\n",
    "    for a in get_links(\"учитель\"):\n",
    "        print(get_resume(a))\n",
    "        time.sleep(1)"
   ]
  }
 ],
 "metadata": {
  "kernelspec": {
   "display_name": "Python 3",
   "language": "python",
   "name": "python3"
  },
  "language_info": {
   "codemirror_mode": {
    "name": "ipython",
    "version": 3
   },
   "file_extension": ".py",
   "mimetype": "text/x-python",
   "name": "python",
   "nbconvert_exporter": "python",
   "pygments_lexer": "ipython3",
   "version": "3.11.9"
  }
 },
 "nbformat": 4,
 "nbformat_minor": 2
}
